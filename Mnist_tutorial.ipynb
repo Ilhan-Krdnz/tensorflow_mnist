{
  "nbformat": 4,
  "nbformat_minor": 0,
  "metadata": {
    "colab": {
      "provenance": [],
      "gpuType": "T4",
      "mount_file_id": "1Zv4bGsW--zV_xd-Az3BXgpVr3n8uYqrw",
      "authorship_tag": "ABX9TyMWSJPdZMENCrOpvscZ0Oue",
      "include_colab_link": true
    },
    "kernelspec": {
      "name": "python3",
      "display_name": "Python 3"
    },
    "language_info": {
      "name": "python"
    },
    "accelerator": "GPU"
  },
  "cells": [
    {
      "cell_type": "markdown",
      "metadata": {
        "id": "view-in-github",
        "colab_type": "text"
      },
      "source": [
        "<a href=\"https://colab.research.google.com/github/Ilhan-Krdnz/tensorflow_mnist/blob/main/Mnist_tutorial.ipynb\" target=\"_parent\"><img src=\"https://colab.research.google.com/assets/colab-badge.svg\" alt=\"Open In Colab\"/></a>"
      ]
    },
    {
      "cell_type": "code",
      "execution_count": 2,
      "metadata": {
        "id": "Fl6ljLLQ-Xyz"
      },
      "outputs": [],
      "source": [
        "import tensorflow as tf\n",
        "import numpy as np\n",
        "from tensorflow import keras\n",
        "from tensorflow.keras import layers\n",
        "from tensorflow.keras.datasets import mnist"
      ]
    },
    {
      "cell_type": "code",
      "source": [
        "(x_train, y_train), (x_test, y_test) = mnist.load_data()\n",
        "#x_train = x_train.astype('float32') / 255.0\n",
        "#x_test = x_test.astype('float32') / 255.0"
      ],
      "metadata": {
        "id": "6wSd0m37_C9Z"
      },
      "execution_count": 28,
      "outputs": []
    },
    {
      "cell_type": "code",
      "source": [
        "print(\"Type of x_train:\", type(x_train))\n",
        "print(\"Shape of x_train:\", x_train.shape)"
      ],
      "metadata": {
        "colab": {
          "base_uri": "https://localhost:8080/"
        },
        "id": "z_7JfHydA3D5",
        "outputId": "04b2788f-e016-4308-aa0f-9241562a6647"
      },
      "execution_count": 4,
      "outputs": [
        {
          "output_type": "stream",
          "name": "stdout",
          "text": [
            "Type of x_train: <class 'numpy.ndarray'>\n",
            "Shape of x_train: (60000, 28, 28)\n"
          ]
        }
      ]
    },
    {
      "cell_type": "code",
      "source": [
        "print(\"Shape of an image in x_train:\", x_train[0].shape)\n",
        "print(\"First image (as raw pixel values):\\n\", x_train[0])"
      ],
      "metadata": {
        "id": "oJQzq3a7Bl-X"
      },
      "execution_count": null,
      "outputs": []
    },
    {
      "cell_type": "code",
      "source": [
        "#Reshape method flattens the matrix that we had 28*28 into a one single row of 784, -1 lets it keep its first value which is 60000\n",
        "#Normalization, by dividing it by 255 so the values are in range [0,1]\n",
        "x_train = x_train.reshape(-1, 28*28).astype('float32') / 255.0\n",
        "x_test = x_test.reshape(-1, 28*28).astype('float32') /255.0"
      ],
      "metadata": {
        "id": "1d0JIbqxCLfp"
      },
      "execution_count": 34,
      "outputs": []
    },
    {
      "cell_type": "code",
      "source": [
        "#Defining our model\n",
        "model = keras.Sequential([\n",
        "       layers.Dense(128, activation='relu',input_shape=(784,), name=\"First_hidden_layer\"),\n",
        "       layers.Dense(128, activation='relu'),\n",
        "       layers.Dense(10, activation='softmax')\n",
        "])\n",
        "model.compile(\n",
        "    loss=keras.losses.SparseCategoricalCrossentropy(from_logits=False),\n",
        "    optimizer=keras.optimizers.Adam(learning_rate=0.001),\n",
        "    metrics=[\"accuracy\"],\n",
        ")\n",
        "model.fit(x_train, y_train, batch_size=32, epochs=5, verbose=2)"
      ],
      "metadata": {
        "colab": {
          "base_uri": "https://localhost:8080/"
        },
        "id": "cA1cMepKGgAL",
        "outputId": "9a85888b-8207-4968-abf8-54bae77969af"
      },
      "execution_count": 35,
      "outputs": [
        {
          "output_type": "stream",
          "name": "stdout",
          "text": [
            "Epoch 1/5\n",
            "1875/1875 - 19s - loss: 0.2336 - accuracy: 0.9308 - 19s/epoch - 10ms/step\n",
            "Epoch 2/5\n",
            "1875/1875 - 5s - loss: 0.0970 - accuracy: 0.9703 - 5s/epoch - 3ms/step\n",
            "Epoch 3/5\n",
            "1875/1875 - 4s - loss: 0.0675 - accuracy: 0.9793 - 4s/epoch - 2ms/step\n",
            "Epoch 4/5\n",
            "1875/1875 - 4s - loss: 0.0524 - accuracy: 0.9830 - 4s/epoch - 2ms/step\n",
            "Epoch 5/5\n",
            "1875/1875 - 5s - loss: 0.0403 - accuracy: 0.9869 - 5s/epoch - 3ms/step\n"
          ]
        },
        {
          "output_type": "execute_result",
          "data": {
            "text/plain": [
              "<keras.src.callbacks.History at 0x7f0461a80d90>"
            ]
          },
          "metadata": {},
          "execution_count": 35
        }
      ]
    },
    {
      "cell_type": "code",
      "source": [
        "model.evaluate(x_test, y_test, batch_size=32, verbose=2)\n",
        "model.save(\"Good_start\")"
      ],
      "metadata": {
        "colab": {
          "base_uri": "https://localhost:8080/"
        },
        "id": "Fce0obZzM3e7",
        "outputId": "d9a6d6ca-50b8-446f-c07e-ba1fbc6cffb6"
      },
      "execution_count": 36,
      "outputs": [
        {
          "output_type": "stream",
          "name": "stdout",
          "text": [
            "313/313 - 1s - loss: 0.0871 - accuracy: 0.9742 - 670ms/epoch - 2ms/step\n"
          ]
        }
      ]
    },
    {
      "cell_type": "code",
      "source": [
        "#importing your own test data\n",
        "custom_img_path = '/content/test_image12.png'\n",
        "custom_img = image.load_img(custom_img_path, color_mode='grayscale', target_size=(28, 28))\n",
        "custom_img_array = image.img_to_array(custom_img)\n",
        "custom_img_array = custom_img_array.reshape(-1, 28*28).astype('float32') / 255.0"
      ],
      "metadata": {
        "id": "E8no4vKpY5ub"
      },
      "execution_count": 127,
      "outputs": []
    },
    {
      "cell_type": "code",
      "source": [
        "from tensorflow.keras.models import load_model\n",
        "from tensorflow.keras.preprocessing import image\n",
        "import matplotlib.pyplot as plt\n",
        "\n",
        "#loading the model and the image, extracting the largest predicted class(In this case a number between 1-10) and comparing the results with answers\n",
        "load_model('Good_start')\n",
        "G = 1\n",
        "img_array = x_test[G]\n",
        "\n",
        "def predict(img_array):\n",
        "  if img_array.shape == (784,):\n",
        "    img_array = np.expand_dims(img_array, axis=0)\n",
        "\n",
        "  predictions = model.predict(img_array)\n",
        "  predicted_class = np.argmax(predictions, axis=1)\n",
        "  return predicted_class\n",
        "\n",
        "def plotting(img, predicted_class):\n",
        "  plt.figure(figsize=(4, 4))\n",
        "  plt.imshow(img.squeeze(), cmap='gray')\n",
        "  plt.title(f'Prediction: {predicted_class[0]}')\n",
        "  plt.show()\n",
        "\n",
        "#plotting mnist test image and a custom image that i drew myself\n",
        "#for mnist data\n",
        "de_flattened_img = img_array.reshape(-1, 28, 28)\n",
        "plotting(de_flattened_img, predict(img_array))\n",
        "\n",
        "#for custom data that i drew myself\n",
        "de_flattened_img = custom_img_array.reshape(-1, 28, 28)\n",
        "plotting(de_flattened_img, predict(custom_img_array))"
      ],
      "metadata": {
        "colab": {
          "base_uri": "https://localhost:8080/",
          "height": 800
        },
        "id": "j2_uXCX6LhFD",
        "outputId": "44a28ee1-a67a-44f8-938f-d53df58a28f3"
      },
      "execution_count": 139,
      "outputs": [
        {
          "output_type": "stream",
          "name": "stdout",
          "text": [
            "1/1 [==============================] - 0s 16ms/step\n"
          ]
        },
        {
          "output_type": "display_data",
          "data": {
            "text/plain": [
              "<Figure size 400x400 with 1 Axes>"
            ],
            "image/png": "[encoded data removed]"
          },
          "metadata": {}
        },
        {
          "output_type": "stream",
          "name": "stdout",
          "text": [
            "1/1 [==============================] - 0s 16ms/step\n"
          ]
        },
        {
          "output_type": "display_data",
          "data": {
            "text/plain": [
              "<Figure size 400x400 with 1 Axes>"
            ],
            "image/png": "[encoded data removed]"
          },
          "metadata": {}
        }
      ]
    }
  ]
}